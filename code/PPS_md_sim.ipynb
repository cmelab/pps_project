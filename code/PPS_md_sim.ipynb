{
 "cells": [
  {
   "cell_type": "code",
   "execution_count": 1,
   "metadata": {
    "collapsed": false,
    "jupyter": {
     "outputs_hidden": false
    },
    "pycharm": {
     "is_executing": true
    }
   },
   "outputs": [],
   "source": [
    "import warnings\n",
    "warnings.filterwarnings('ignore')"
   ]
  },
  {
   "cell_type": "code",
   "execution_count": 2,
   "metadata": {
    "pycharm": {
     "is_executing": true
    }
   },
   "outputs": [],
   "source": [
    "import flowermd\n",
    "import gsd.hoomd\n",
    "import matplotlib as plt"
   ]
  },
  {
   "cell_type": "code",
   "execution_count": null,
   "metadata": {},
   "outputs": [],
   "source": [
    "#for use when using signac-flow\n",
    "num_pps = 30\n",
    "density_sim = 1.35\n",
    "num_shrink_steps = 1000\n",
    "chain_lengths = 20 #this defines how many monomers are in a given chain\n",
    "num_timesteps = 10000\n",
    "gsd_freq = 100\n",
    "log_freq = 100\n",
    "r_cut_value = 2.5"
   ]
  },
  {
   "cell_type": "code",
   "execution_count": null,
   "metadata": {
    "pycharm": {
     "is_executing": true
    }
   },
   "outputs": [],
   "source": [
    "from flowermd.library import PPS\n",
    "molecules = PPS(num_mols = num_pps, lengths=chain_lengths)"
   ]
  },
  {
   "cell_type": "code",
   "execution_count": null,
   "metadata": {},
   "outputs": [],
   "source": [
    "from flowermd.base import Pack\n",
    "system = Pack(molecules=molecules, density=density_sim, packing_expand_factor=5)"
   ]
  },
  {
   "cell_type": "code",
   "execution_count": null,
   "metadata": {
    "pycharm": {
     "is_executing": true
    }
   },
   "outputs": [],
   "source": [
    "from flowermd.library import OPLS_AA_PPS\n",
    "\n",
    "system.apply_forcefield(r_cut= r_cut_value, force_field=OPLS_AA_PPS(), auto_scale=True, scale_charges=True)"
   ]
  },
  {
   "cell_type": "code",
   "execution_count": null,
   "metadata": {
    "pycharm": {
     "is_executing": true
    }
   },
   "outputs": [],
   "source": [
    "hoomd_forces = system.hoomd_forcefield"
   ]
  },
  {
   "cell_type": "code",
   "execution_count": null,
   "metadata": {},
   "outputs": [],
   "source": [
    "lj_force = hoomd_forces[3]"
   ]
  },
  {
   "cell_type": "code",
   "execution_count": null,
   "metadata": {},
   "outputs": [],
   "source": [
    "from flowermd.base import Simulation\n",
    "\n",
    "sim = Simulation.from_system(system=system, gsd_write_freq=gsd_freq, log_write_freq=log_freq)"
   ]
  },
  {
   "cell_type": "code",
   "execution_count": null,
   "metadata": {},
   "outputs": [],
   "source": [
    "sim.run_update_volume(n_steps=num_shrink_steps, period=1, kT=1, tau_kt=1, final_box_lengths=system.target_box)"
   ]
  },
  {
   "cell_type": "code",
   "execution_count": null,
   "metadata": {},
   "outputs": [],
   "source": [
    "import hoomd\n",
    "for writer in sim.operations.writers:\n",
    "    if isinstance(writer, hoomd.write.GSD):\n",
    "        writer.flush()"
   ]
  },
  {
   "cell_type": "code",
   "execution_count": null,
   "metadata": {},
   "outputs": [],
   "source": [
    "from cmeutils.visualize import FresnelGSD\n",
    "\n",
    "sim_visualizer = FresnelGSD(gsd_file=\"trajectory.gsd\", frame=0, view_axis=(1, 1, 1))\n",
    "sim_visualizer.view()"
   ]
  },
  {
   "cell_type": "code",
   "execution_count": null,
   "metadata": {},
   "outputs": [],
   "source": [
    "sim_visualizer.frame = -1\n",
    "sim_visualizer.view()"
   ]
  },
  {
   "cell_type": "code",
   "execution_count": null,
   "metadata": {},
   "outputs": [],
   "source": [
    "logger = hoomd.logging.Logger(categories=['scalar', 'string'])\n",
    "logger.add(sim, quantities =['timestep', 'tps'])                           "
   ]
  },
  {
   "cell_type": "code",
   "execution_count": null,
   "metadata": {},
   "outputs": [],
   "source": [
    "file = open('log.txt', mode='w', newline='\\n')"
   ]
  },
  {
   "cell_type": "code",
   "execution_count": null,
   "metadata": {},
   "outputs": [],
   "source": [
    "table_file = hoomd.write.Table(output=file,\n",
    "                               trigger=hoomd.trigger.Periodic(period=500),\n",
    "                               logger=logger)\n",
    "sim.operations.writers.append(table_file)"
   ]
  },
  {
   "cell_type": "code",
   "execution_count": null,
   "metadata": {},
   "outputs": [],
   "source": [
    "#adjust n_steps depending on use\n",
    "#job.sp.\"whatever parameter from flow template's init.py\"\n",
    "sim.run_NVT(n_steps= num_timesteps, kT=1.0, tau_kt=0.01)"
   ]
  },
  {
   "cell_type": "code",
   "execution_count": 3,
   "metadata": {},
   "outputs": [
    {
     "name": "stdout",
     "output_type": "stream",
     "text": [
      "Help on function run_NVT in module flowermd.base.simulation:\n",
      "\n",
      "run_NVT(self, n_steps, kT, tau_kt, thermalize_particles=True, write_at_start=True)\n",
      "    Run the simulation in the NVT ensemble.\n",
      "    \n",
      "    Parameters\n",
      "    ----------\n",
      "    n_steps: int, required\n",
      "        Number of steps to run the simulation.\n",
      "    kT: int or hoomd.variant.Ramp, required\n",
      "        The temperature to use during the simulation.\n",
      "    tau_kt: float, required\n",
      "        Thermostat coupling period (in simulation time units).\n",
      "    thermalize_particles: bool, default True\n",
      "        When set to True, assigns random velocities to all particles.\n",
      "    write_at_start : bool, default True\n",
      "        When set to True, triggers writers that evaluate to True\n",
      "        for the initial step to execute before the next simulation\n",
      "        time step.\n",
      "\n"
     ]
    }
   ],
   "source": [
    "help(flowermd.Simulation.run_NVT)"
   ]
  },
  {
   "cell_type": "code",
   "execution_count": null,
   "metadata": {},
   "outputs": [],
   "source": [
    "!cat log.txt"
   ]
  },
  {
   "cell_type": "code",
   "execution_count": null,
   "metadata": {},
   "outputs": [],
   "source": [
    "import numpy as np\n",
    "numbers = np.loadtxt('log.txt', usecols=(1), skiprows=(1))\n",
    "average_tps = np.mean(numbers)\n",
    "print(\"Average TPS for n =\",num_pps, \"is\", average_tps)"
   ]
  },
  {
   "cell_type": "code",
   "execution_count": null,
   "metadata": {},
   "outputs": [],
   "source": [
    "for writer in sim.operations.writers:\n",
    "    if isinstance(writer, hoomd.write.GSD):\n",
    "        writer.flush()"
   ]
  },
  {
   "cell_type": "code",
   "execution_count": null,
   "metadata": {},
   "outputs": [],
   "source": [
    "sim_visualizer.frame=-1\n",
    "sim_visualizer.view()"
   ]
  },
  {
   "cell_type": "code",
   "execution_count": null,
   "metadata": {},
   "outputs": [],
   "source": [
    "with gsd.hoomd.open(\"trajectory.gsd\") as traj:\n",
    "    frame = traj[0] # traj is a list of snapshots, so you can access them using regular indexing\n",
    "    particle_types = frame.particles.types\n",
    "    print(particle_types)"
   ]
  }
 ],
 "metadata": {
  "kernelspec": {
   "display_name": "Python 3 (ipykernel)",
   "language": "python",
   "name": "python3"
  },
  "language_info": {
   "codemirror_mode": {
    "name": "ipython",
    "version": 3
   },
   "file_extension": ".py",
   "mimetype": "text/x-python",
   "name": "python",
   "nbconvert_exporter": "python",
   "pygments_lexer": "ipython3",
   "version": "3.9.18"
  }
 },
 "nbformat": 4,
 "nbformat_minor": 4
}
