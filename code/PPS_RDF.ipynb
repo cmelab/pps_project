{
 "cells": [
  {
   "cell_type": "code",
   "execution_count": 50,
   "id": "a2ebbcdd-9720-414a-8374-b71c61372337",
   "metadata": {},
   "outputs": [],
   "source": [
    "import cmeutils\n",
    "import matplotlib as mpl\n",
    "from cmeutils.structure import gsd_rdf\n",
    "import hoomd"
   ]
  },
  {
   "cell_type": "code",
   "execution_count": 53,
   "id": "4fd03aea-af03-4d00-97f0-81477ca36516",
   "metadata": {},
   "outputs": [
    {
     "ename": "AttributeError",
     "evalue": "type object 'Frame' has no attribute 'particles'",
     "output_type": "error",
     "traceback": [
      "\u001b[0;31m---------------------------------------------------------------------------\u001b[0m",
      "\u001b[0;31mAttributeError\u001b[0m                            Traceback (most recent call last)",
      "Cell \u001b[0;32mIn[53], line 2\u001b[0m\n\u001b[1;32m      1\u001b[0m gsdfile \u001b[38;5;241m=\u001b[39m \u001b[38;5;124m'\u001b[39m\u001b[38;5;124mtrajectory.gsd\u001b[39m\u001b[38;5;124m'\u001b[39m\n\u001b[0;32m----> 2\u001b[0m \u001b[43mgsd\u001b[49m\u001b[38;5;241;43m.\u001b[39;49m\u001b[43mhoomd\u001b[49m\u001b[38;5;241;43m.\u001b[39;49m\u001b[43mFrame\u001b[49m\u001b[38;5;241;43m.\u001b[39;49m\u001b[43mparticles\u001b[49m\n",
      "\u001b[0;31mAttributeError\u001b[0m: type object 'Frame' has no attribute 'particles'"
     ]
    }
   ],
   "source": [
    "gsdfile = 'trajectory.gsd'"
   ]
  },
  {
   "cell_type": "code",
   "execution_count": 51,
   "id": "85445ae6-d8c3-4522-af8e-c89a10e61216",
   "metadata": {},
   "outputs": [
    {
     "ename": "ValueError",
     "evalue": "'A_name' is not in list",
     "output_type": "error",
     "traceback": [
      "\u001b[0;31m---------------------------------------------------------------------------\u001b[0m",
      "\u001b[0;31mValueError\u001b[0m                                Traceback (most recent call last)",
      "Cell \u001b[0;32mIn[51], line 2\u001b[0m\n\u001b[1;32m      1\u001b[0m gsdfile \u001b[38;5;241m=\u001b[39m \u001b[38;5;124m'\u001b[39m\u001b[38;5;124mtrajectory.gsd\u001b[39m\u001b[38;5;124m'\u001b[39m\n\u001b[0;32m----> 2\u001b[0m \u001b[43mgsd_rdf\u001b[49m\u001b[43m(\u001b[49m\n\u001b[1;32m      3\u001b[0m \u001b[43m    \u001b[49m\u001b[43mgsdfile\u001b[49m\u001b[43m,\u001b[49m\n\u001b[1;32m      4\u001b[0m \u001b[43m    \u001b[49m\u001b[38;5;124;43m'\u001b[39;49m\u001b[38;5;124;43mA_name\u001b[39;49m\u001b[38;5;124;43m'\u001b[39;49m\u001b[43m,\u001b[49m\n\u001b[1;32m      5\u001b[0m \u001b[43m    \u001b[49m\u001b[38;5;124;43m'\u001b[39;49m\u001b[38;5;124;43mB_name\u001b[39;49m\u001b[38;5;124;43m'\u001b[39;49m\u001b[43m,\u001b[49m\n\u001b[1;32m      6\u001b[0m \u001b[43m    \u001b[49m\u001b[43mstart\u001b[49m\u001b[38;5;241;43m=\u001b[39;49m\u001b[38;5;241;43m0\u001b[39;49m\u001b[43m,\u001b[49m\n\u001b[1;32m      7\u001b[0m \u001b[43m    \u001b[49m\u001b[43mstop\u001b[49m\u001b[38;5;241;43m=\u001b[39;49m\u001b[38;5;241;43m-\u001b[39;49m\u001b[38;5;241;43m1\u001b[39;49m\u001b[43m,\u001b[49m\n\u001b[1;32m      8\u001b[0m \u001b[43m    \u001b[49m\u001b[43mr_max\u001b[49m\u001b[38;5;241;43m=\u001b[39;49m\u001b[38;5;28;43;01mNone\u001b[39;49;00m\u001b[43m,\u001b[49m\n\u001b[1;32m      9\u001b[0m \u001b[43m    \u001b[49m\u001b[43mr_min\u001b[49m\u001b[38;5;241;43m=\u001b[39;49m\u001b[38;5;241;43m0\u001b[39;49m\u001b[43m,\u001b[49m\n\u001b[1;32m     10\u001b[0m \u001b[43m    \u001b[49m\u001b[43mbins\u001b[49m\u001b[38;5;241;43m=\u001b[39;49m\u001b[38;5;241;43m100\u001b[39;49m\u001b[43m,\u001b[49m\n\u001b[1;32m     11\u001b[0m \u001b[43m    \u001b[49m\u001b[43mexclude_bonded\u001b[49m\u001b[38;5;241;43m=\u001b[39;49m\u001b[38;5;28;43;01mTrue\u001b[39;49;00m\u001b[43m,\u001b[49m\n\u001b[1;32m     12\u001b[0m \u001b[43m)\u001b[49m\n",
      "File \u001b[0;32m~/miniconda3/envs/flowermd/lib/python3.9/site-packages/cmeutils/structure.py:427\u001b[0m, in \u001b[0;36mgsd_rdf\u001b[0;34m(gsdfile, A_name, B_name, start, stop, r_max, r_min, bins, exclude_bonded)\u001b[0m\n\u001b[1;32m    421\u001b[0m     r_max \u001b[38;5;241m=\u001b[39m np\u001b[38;5;241m.\u001b[39mnextafter(\n\u001b[1;32m    422\u001b[0m         np\u001b[38;5;241m.\u001b[39mmax(snap\u001b[38;5;241m.\u001b[39mconfiguration\u001b[38;5;241m.\u001b[39mbox[:\u001b[38;5;241m3\u001b[39m]) \u001b[38;5;241m*\u001b[39m \u001b[38;5;241m0.5\u001b[39m, \u001b[38;5;241m0\u001b[39m, dtype\u001b[38;5;241m=\u001b[39mnp\u001b[38;5;241m.\u001b[39mfloat32\n\u001b[1;32m    423\u001b[0m     )\n\u001b[1;32m    425\u001b[0m rdf \u001b[38;5;241m=\u001b[39m freud\u001b[38;5;241m.\u001b[39mdensity\u001b[38;5;241m.\u001b[39mRDF(bins\u001b[38;5;241m=\u001b[39mbins, r_max\u001b[38;5;241m=\u001b[39mr_max, r_min\u001b[38;5;241m=\u001b[39mr_min)\n\u001b[0;32m--> 427\u001b[0m type_A \u001b[38;5;241m=\u001b[39m snap\u001b[38;5;241m.\u001b[39mparticles\u001b[38;5;241m.\u001b[39mtypeid \u001b[38;5;241m==\u001b[39m \u001b[43msnap\u001b[49m\u001b[38;5;241;43m.\u001b[39;49m\u001b[43mparticles\u001b[49m\u001b[38;5;241;43m.\u001b[39;49m\u001b[43mtypes\u001b[49m\u001b[38;5;241;43m.\u001b[39;49m\u001b[43mindex\u001b[49m\u001b[43m(\u001b[49m\u001b[43mA_name\u001b[49m\u001b[43m)\u001b[49m\n\u001b[1;32m    428\u001b[0m type_B \u001b[38;5;241m=\u001b[39m snap\u001b[38;5;241m.\u001b[39mparticles\u001b[38;5;241m.\u001b[39mtypeid \u001b[38;5;241m==\u001b[39m snap\u001b[38;5;241m.\u001b[39mparticles\u001b[38;5;241m.\u001b[39mtypes\u001b[38;5;241m.\u001b[39mindex(B_name)\n\u001b[1;32m    430\u001b[0m \u001b[38;5;28;01mif\u001b[39;00m exclude_bonded:\n",
      "\u001b[0;31mValueError\u001b[0m: 'A_name' is not in list"
     ]
    }
   ],
   "source": [
    "gsd_rdf(\n",
    "    gsdfile,\n",
    "    'A_name',\n",
    "    'B_name',\n",
    "    start=0,\n",
    "    stop=-1,\n",
    "    r_max=None,\n",
    "    r_min=0,\n",
    "    bins=100,\n",
    "    exclude_bonded=True,\n",
    ")"
   ]
  },
  {
   "cell_type": "code",
   "execution_count": null,
   "id": "831321ea-6640-4798-855c-49dc15fba22b",
   "metadata": {},
   "outputs": [],
   "source": []
  }
 ],
 "metadata": {
  "kernelspec": {
   "display_name": "Python 3 (ipykernel)",
   "language": "python",
   "name": "python3"
  },
  "language_info": {
   "codemirror_mode": {
    "name": "ipython",
    "version": 3
   },
   "file_extension": ".py",
   "mimetype": "text/x-python",
   "name": "python",
   "nbconvert_exporter": "python",
   "pygments_lexer": "ipython3",
   "version": "3.9.18"
  }
 },
 "nbformat": 4,
 "nbformat_minor": 5
}
