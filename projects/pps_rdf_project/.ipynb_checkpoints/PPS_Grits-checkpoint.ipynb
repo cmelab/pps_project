{
 "cells": [
  {
   "cell_type": "code",
   "execution_count": 1,
   "id": "6f71b71c-b6af-4ed1-b2ba-917b782e2858",
   "metadata": {},
   "outputs": [],
   "source": [
    "import flowermd\n",
    "import grits\n",
    "import gsd\n",
    "import mbuild as mb\n",
    "from grits.utils import amber_dict"
   ]
  },
  {
   "cell_type": "code",
   "execution_count": 2,
   "id": "b4001198-b5e5-421a-a03b-fcd7ad22d99a",
   "metadata": {},
   "outputs": [
    {
     "data": {
      "text/plain": [
       "'0.2.3.dev87+clean'"
      ]
     },
     "execution_count": 2,
     "metadata": {},
     "output_type": "execute_result"
    }
   ],
   "source": [
    "grits.__version__"
   ]
  },
  {
   "cell_type": "code",
   "execution_count": 10,
   "id": "cbf2a7f9-ca92-4e03-aea7-3599e5bc1e89",
   "metadata": {},
   "outputs": [
    {
     "name": "stdout",
     "output_type": "stream",
     "text": [
      "Added 0 hydrogens.\n"
     ]
    }
   ],
   "source": [
    "gsdfile = 'trajectory.gsd'\n",
    "system = grits.CG_System(gsdfile, beads={\"_A\": \"c1ccc(S)cc1\", \"_B\": \"s\"}, add_hydrogens = True, conversion_dict = amber_dict)"
   ]
  },
  {
   "cell_type": "code",
   "execution_count": 11,
   "id": "4a89c3d3-588f-47e8-8fba-958cf96be908",
   "metadata": {},
   "outputs": [
    {
     "data": {
      "application/3dmoljs_load.v0": "<div id=\"3dmolviewer_16983497112505617\"  style=\"position: relative; width: 640px; height: 480px;\">\n        <p id=\"3dmolwarning_16983497112505617\" style=\"background-color:#ffcccc;color:black\">You appear to be running in JupyterLab (or JavaScript failed to load for some other reason).  You need to install the 3dmol extension: <br>\n        <tt>jupyter labextension install jupyterlab_3dmol</tt></p>\n        </div>\n<script>\n\nvar loadScriptAsync = function(uri){\n  return new Promise((resolve, reject) => {\n    //this is to ignore the existence of requirejs amd\n    var savedexports, savedmodule;\n    if (typeof exports !== 'undefined') savedexports = exports;\n    else exports = {}\n    if (typeof module !== 'undefined') savedmodule = module;\n    else module = {}\n\n    var tag = document.createElement('script');\n    tag.src = uri;\n    tag.async = true;\n    tag.onload = () => {\n        exports = savedexports;\n        module = savedmodule;\n        resolve();\n    };\n  var firstScriptTag = document.getElementsByTagName('script')[0];\n  firstScriptTag.parentNode.insertBefore(tag, firstScriptTag);\n});\n};\n\nif(typeof $3Dmolpromise === 'undefined') {\n$3Dmolpromise = null;\n  $3Dmolpromise = loadScriptAsync('https://cdnjs.cloudflare.com/ajax/libs/3Dmol/2.0.4/3Dmol-min.js');\n}\n\nvar viewer_16983497112505617 = null;\nvar warn = document.getElementById(\"3dmolwarning_16983497112505617\");\nif(warn) {\n    warn.parentNode.removeChild(warn);\n}\n$3Dmolpromise.then(function() {\nviewer_16983497112505617 = $3Dmol.createViewer(document.getElementById(\"3dmolviewer_16983497112505617\"),{backgroundColor:\"white\"});\nviewer_16983497112505617.zoomTo();\n\tviewer_16983497112505617.addModel(\"@<TRIPOS>MOLECULE\\nRES\\n112 121 1 0 1\\nSMALL\\nNO_CHARGES\\n@<TRIPOS>CRYSIN\\n  458.5461   458.5461   458.5461    90.0000    90.0000    90.0000 1 1\\n@<TRIPOS>ATOM\\n       1 C            7.2742   223.4758   205.7340 C             1 RES     \\n       2 C            7.8039   226.8327   207.6166 C             1 RES     \\n       3 C            7.8212   226.9021   211.5016 C             1 RES     \\n       4 C            7.3072   223.6098   213.5093 C             1 RES     \\n       5 S            7.3291   223.6953   218.4803 S             1 RES     \\n       6 C            6.7781   220.2501   211.6207 C             1 RES     \\n       7 C            6.7616   220.1857   207.7356 C             1 RES     \\n       8 H            8.2006   229.3781   206.0665 H             1 RES     \\n       9 H            8.2318   229.5091   212.9435 H             1 RES     \\n      10 H            6.3792   217.6946   213.1550 H             1 RES     \\n      11 H            6.3519   217.5885   206.2776 H             1 RES     \\n      12 C            7.1628   223.8089   223.3651 C             1 RES     \\n      13 C            7.6924   227.1658   225.2477 C             1 RES     \\n      14 C            7.7097   227.2352   229.1327 C             1 RES     \\n      15 C            7.1957   223.9429   231.1404 C             1 RES     \\n      16 S            7.2176   224.0284   236.1114 S             1 RES     \\n      17 C            6.6666   220.5832   229.2518 C             1 RES     \\n      18 C            6.6501   220.5188   225.3666 C             1 RES     \\n      19 H            8.0890   229.7112   223.6976 H             1 RES     \\n      20 H            8.1203   229.8422   230.5745 H             1 RES     \\n      21 H            6.2677   218.0277   230.7860 H             1 RES     \\n      22 H            6.2404   217.9216   223.9086 H             1 RES     \\n      23 C            7.0513   224.1420   240.9961 C             1 RES     \\n      24 C            7.5809   227.4989   242.8787 C             1 RES     \\n      25 C            7.5982   227.5683   246.7638 C             1 RES     \\n      26 C            7.0842   224.2760   248.7715 C             1 RES     \\n      27 S            7.1062   224.3615   253.7425 S             1 RES     \\n      28 C            6.5551   220.9163   246.8828 C             1 RES     \\n      29 C            6.5386   220.8519   242.9977 C             1 RES     \\n      30 H            7.9776   230.0443   241.3287 H             1 RES     \\n      31 H            8.0088   230.1753   248.2056 H             1 RES     \\n      32 H            6.1562   218.3608   248.4171 H             1 RES     \\n      33 H            6.1289   218.2547   241.5397 H             1 RES     \\n      34 C            6.9398   224.4751   258.6272 C             1 RES     \\n      35 C            7.4694   227.8320   260.5098 C             1 RES     \\n      36 C            7.4867   227.9014   264.3948 C             1 RES     \\n      37 C            6.9727   224.6091   266.4025 C             1 RES     \\n      38 S            6.9946   224.6946   271.3735 S             1 RES     \\n      39 C            6.4436   221.2494   264.5139 C             1 RES     \\n      40 C            6.4271   221.1850   260.6288 C             1 RES     \\n      41 H            7.8661   230.3774   258.9597 H             1 RES     \\n      42 H            7.8973   230.5084   265.8367 H             1 RES     \\n      43 H            6.0447   218.6939   266.0482 H             1 RES     \\n      44 H            6.0174   218.5878   259.1708 H             1 RES     \\n      45 C            6.8283   224.8082   276.2583 C             1 RES     \\n      46 C            7.3579   228.1651   278.1409 C             1 RES     \\n      47 C            7.3752   228.2345   282.0259 C             1 RES     \\n      48 C            6.8612   224.9422   284.0336 C             1 RES     \\n      49 S            6.8832   225.0277   289.0046 S             1 RES     \\n      50 C            6.3321   221.5825   282.1450 C             1 RES     \\n      51 C            6.3156   221.5181   278.2598 C             1 RES     \\n      52 H            7.7546   230.7105   276.5908 H             1 RES     \\n      53 H            7.7858   230.8415   283.4677 H             1 RES     \\n      54 H            5.9332   219.0270   283.6792 H             1 RES     \\n      55 H            5.9059   218.9209   276.8018 H             1 RES     \\n      56 C            6.7168   225.1413   293.8893 C             1 RES     \\n      57 C            7.2464   228.4982   295.7719 C             1 RES     \\n      58 C            7.2637   228.5676   299.6570 C             1 RES     \\n      59 C            6.7497   225.2753   301.6647 C             1 RES     \\n      60 S            6.7717   225.3608   306.6357 S             1 RES     \\n      61 C            6.2206   221.9156   299.7761 C             1 RES     \\n      62 C            6.2041   221.8512   295.8909 C             1 RES     \\n      63 H            7.6431   231.0436   294.2219 H             1 RES     \\n      64 H            7.6743   231.1746   301.0988 H             1 RES     \\n      65 H            5.8217   219.3601   301.3103 H             1 RES     \\n      66 H            5.7944   219.2540   294.4329 H             1 RES     \\n      67 C            6.6053   225.4744   311.5204 C             1 RES     \\n      68 C            7.1349   228.8313   313.4030 C             1 RES     \\n      69 C            7.1522   228.9007   317.2880 C             1 RES     \\n      70 C            6.6382   225.6084   319.2957 C             1 RES     \\n      71 S            6.6602   225.6939   324.2667 S             1 RES     \\n      72 C            6.1091   222.2487   317.4071 C             1 RES     \\n      73 C            6.0926   222.1843   313.5220 C             1 RES     \\n      74 H            7.5316   231.3767   311.8529 H             1 RES     \\n      75 H            7.5628   231.5077   318.7299 H             1 RES     \\n      76 H            5.7102   219.6932   318.9414 H             1 RES     \\n      77 H            5.6829   219.5871   312.0640 H             1 RES     \\n      78 C            6.4938   225.8075   329.1515 C             1 RES     \\n      79 C            7.0235   229.1644   331.0341 C             1 RES     \\n      80 C            7.0407   229.2338   334.9191 C             1 RES     \\n      81 C            6.5267   225.9415   336.9268 C             1 RES     \\n      82 S            6.5487   226.0270   341.8978 S             1 RES     \\n      83 C            5.9976   222.5818   335.0382 C             1 RES     \\n      84 C            5.9811   222.5174   331.1530 C             1 RES     \\n      85 H            7.4201   231.7098   329.4840 H             1 RES     \\n      86 H            7.4513   231.8408   336.3609 H             1 RES     \\n      87 H            5.5987   220.0263   336.5724 H             1 RES     \\n      88 H            5.5714   219.9202   329.6950 H             1 RES     \\n      89 C            6.3823   226.1406   346.7825 C             1 RES     \\n      90 C            6.9119   229.4975   348.6651 C             1 RES     \\n      91 C            6.9292   229.5669   352.5502 C             1 RES     \\n      92 C            6.4152   226.2746   354.5579 C             1 RES     \\n      93 S            6.4372   226.3601   359.5289 S             1 RES     \\n      94 C            5.8861   222.9149   352.6693 C             1 RES     \\n      95 C            5.8696   222.8505   348.7841 C             1 RES     \\n      96 H            7.3086   232.0429   347.1151 H             1 RES     \\n      97 H            7.3398   232.1739   353.9920 H             1 RES     \\n      98 H            5.4873   220.3594   354.2035 H             1 RES     \\n      99 H            5.4599   220.2533   347.3261 H             1 RES     \\n     100 C            6.2708   226.4737   364.4136 C             1 RES     \\n     101 C            6.8004   229.8306   366.2962 C             1 RES     \\n     102 C            6.8177   229.9000   370.1812 C             1 RES     \\n     103 C            6.3037   226.6077   372.1889 C             1 RES     \\n     104 S            6.3257   226.6932   377.1599 S             1 RES     \\n     105 C            5.7747   223.2480   370.3003 C             1 RES     \\n     106 C            5.7582   223.1836   366.4152 C             1 RES     \\n     107 H            7.1971   232.3760   364.7461 H             1 RES     \\n     108 H            7.2284   232.5070   371.6231 H             1 RES     \\n     109 H            5.3757   220.6925   371.8346 H             1 RES     \\n     110 H            5.3484   220.5864   364.9572 H             1 RES     \\n     111 H            7.3777   223.4052   202.6977 H             1 RES     \\n     112 H            6.2223   226.7638   380.1962 H             1 RES     \\n@<TRIPOS>BOND\\n       1        1        2 1\\n       2        1        7 1\\n       3        1      111 1\\n       4        2        3 1\\n       5        2        8 1\\n       6        3        4 1\\n       7        3        9 1\\n       8        4        5 1\\n       9        4        6 1\\n      10        5       12 1\\n      11        6        7 1\\n      12        6       10 1\\n      13        7       11 1\\n      14       12       13 1\\n      15       12       18 1\\n      16       13       14 1\\n      17       13       19 1\\n      18       14       15 1\\n      19       14       20 1\\n      20       15       16 1\\n      21       15       17 1\\n      22       16       23 1\\n      23       17       18 1\\n      24       17       21 1\\n      25       18       22 1\\n      26       23       24 1\\n      27       23       29 1\\n      28       24       25 1\\n      29       24       30 1\\n      30       25       26 1\\n      31       25       31 1\\n      32       26       27 1\\n      33       26       28 1\\n      34       27       34 1\\n      35       28       29 1\\n      36       28       32 1\\n      37       29       33 1\\n      38       34       35 1\\n      39       34       40 1\\n      40       35       36 1\\n      41       35       41 1\\n      42       36       37 1\\n      43       36       42 1\\n      44       37       38 1\\n      45       37       39 1\\n      46       38       45 1\\n      47       39       40 1\\n      48       39       43 1\\n      49       40       44 1\\n      50       45       46 1\\n      51       45       51 1\\n      52       46       47 1\\n      53       46       52 1\\n      54       47       48 1\\n      55       47       53 1\\n      56       48       49 1\\n      57       48       50 1\\n      58       49       56 1\\n      59       50       51 1\\n      60       50       54 1\\n      61       51       55 1\\n      62       56       57 1\\n      63       56       62 1\\n      64       57       58 1\\n      65       57       63 1\\n      66       58       59 1\\n      67       58       64 1\\n      68       59       60 1\\n      69       59       61 1\\n      70       60       67 1\\n      71       61       62 1\\n      72       61       65 1\\n      73       62       66 1\\n      74       67       68 1\\n      75       67       73 1\\n      76       68       69 1\\n      77       68       74 1\\n      78       69       70 1\\n      79       69       75 1\\n      80       70       71 1\\n      81       70       72 1\\n      82       71       78 1\\n      83       72       73 1\\n      84       72       76 1\\n      85       73       77 1\\n      86       78       79 1\\n      87       78       84 1\\n      88       79       80 1\\n      89       79       85 1\\n      90       80       81 1\\n      91       80       86 1\\n      92       81       82 1\\n      93       81       83 1\\n      94       82       89 1\\n      95       83       84 1\\n      96       83       87 1\\n      97       84       88 1\\n      98       89       90 1\\n      99       89       95 1\\n     100       90       91 1\\n     101       90       96 1\\n     102       91       92 1\\n     103       91       97 1\\n     104       92       93 1\\n     105       92       94 1\\n     106       93      100 1\\n     107       94       95 1\\n     108       94       98 1\\n     109       95       99 1\\n     110      100      101 1\\n     111      100      106 1\\n     112      101      102 1\\n     113      101      107 1\\n     114      102      103 1\\n     115      102      108 1\\n     116      103      104 1\\n     117      103      105 1\\n     118      104      112 1\\n     119      105      106 1\\n     120      105      109 1\\n     121      106      110 1\\n@<TRIPOS>SUBSTRUCTURE\\n       1 RES             1 RESIDUE    0 **** ROOT      0\\n\",\"mol2\");\n\tviewer_16983497112505617.setStyle({\"stick\": {\"radius\": 0.2, \"opacity\": 0.6, \"color\": \"grey\"}, \"sphere\": {\"scale\": 0.3, \"opacity\": 0.6, \"colorscheme\": {}}});\n\tviewer_16983497112505617.addModel(\"@<TRIPOS>MOLECULE\\nRES\\n10 9 1 0 1\\nSMALL\\nNO_CHARGES\\n@<TRIPOS>CRYSIN\\n    6.0161     8.0280   165.2479    90.0000    90.0000    90.0000 1 1\\n@<TRIPOS>ATOM\\n       1 _A           7.3014   223.5439   209.7782 _A            1 RES     \\n       2 _A           7.1829   223.8896   228.0529 _A            1 RES     \\n       3 _A           7.0714   224.2227   245.6840 _A            1 RES     \\n       4 _A           6.9599   224.5558   263.3151 _A            1 RES     \\n       5 _A           6.8485   224.8889   280.9462 _A            1 RES     \\n       6 _A           6.7370   225.2220   298.5772 _A            1 RES     \\n       7 _A           6.6255   225.5551   316.2083 _A            1 RES     \\n       8 _A           6.5140   225.8882   333.8394 _A            1 RES     \\n       9 _A           6.4025   226.2213   351.4704 _A            1 RES     \\n      10 _A           6.2853   226.5719   370.0260 _A            1 RES     \\n@<TRIPOS>BOND\\n       1        1        2 1\\n       2        2        3 1\\n       3        3        4 1\\n       4        4        5 1\\n       5        5        6 1\\n       6        6        7 1\\n       7        7        8 1\\n       8        8        9 1\\n       9        9       10 1\\n@<TRIPOS>SUBSTRUCTURE\\n       1 RES             1 RESIDUE    0 **** ROOT      0\\n\",\"mol2\");\n\tviewer_16983497112505617.setStyle({\"atom\": [\"_A\", \"_A\", \"_A\", \"_A\", \"_A\", \"_A\", \"_A\", \"_A\", \"_A\", \"_A\"]},{\"stick\": {\"radius\": 0.13999999999999999, \"opacity\": 1, \"color\": \"grey\"}, \"sphere\": {\"scale\": 0.7, \"opacity\": 1, \"colorscheme\": {}}});\n\tviewer_16983497112505617.zoomTo();\nviewer_16983497112505617.render();\n});\n</script>",
      "text/html": [
       "<div id=\"3dmolviewer_16983497112505617\"  style=\"position: relative; width: 640px; height: 480px;\">\n",
       "        <p id=\"3dmolwarning_16983497112505617\" style=\"background-color:#ffcccc;color:black\">You appear to be running in JupyterLab (or JavaScript failed to load for some other reason).  You need to install the 3dmol extension: <br>\n",
       "        <tt>jupyter labextension install jupyterlab_3dmol</tt></p>\n",
       "        </div>\n",
       "<script>\n",
       "\n",
       "var loadScriptAsync = function(uri){\n",
       "  return new Promise((resolve, reject) => {\n",
       "    //this is to ignore the existence of requirejs amd\n",
       "    var savedexports, savedmodule;\n",
       "    if (typeof exports !== 'undefined') savedexports = exports;\n",
       "    else exports = {}\n",
       "    if (typeof module !== 'undefined') savedmodule = module;\n",
       "    else module = {}\n",
       "\n",
       "    var tag = document.createElement('script');\n",
       "    tag.src = uri;\n",
       "    tag.async = true;\n",
       "    tag.onload = () => {\n",
       "        exports = savedexports;\n",
       "        module = savedmodule;\n",
       "        resolve();\n",
       "    };\n",
       "  var firstScriptTag = document.getElementsByTagName('script')[0];\n",
       "  firstScriptTag.parentNode.insertBefore(tag, firstScriptTag);\n",
       "});\n",
       "};\n",
       "\n",
       "if(typeof $3Dmolpromise === 'undefined') {\n",
       "$3Dmolpromise = null;\n",
       "  $3Dmolpromise = loadScriptAsync('https://cdnjs.cloudflare.com/ajax/libs/3Dmol/2.0.4/3Dmol-min.js');\n",
       "}\n",
       "\n",
       "var viewer_16983497112505617 = null;\n",
       "var warn = document.getElementById(\"3dmolwarning_16983497112505617\");\n",
       "if(warn) {\n",
       "    warn.parentNode.removeChild(warn);\n",
       "}\n",
       "$3Dmolpromise.then(function() {\n",
       "viewer_16983497112505617 = $3Dmol.createViewer(document.getElementById(\"3dmolviewer_16983497112505617\"),{backgroundColor:\"white\"});\n",
       "viewer_16983497112505617.zoomTo();\n",
       "\tviewer_16983497112505617.addModel(\"@<TRIPOS>MOLECULE\\nRES\\n112 121 1 0 1\\nSMALL\\nNO_CHARGES\\n@<TRIPOS>CRYSIN\\n  458.5461   458.5461   458.5461    90.0000    90.0000    90.0000 1 1\\n@<TRIPOS>ATOM\\n       1 C            7.2742   223.4758   205.7340 C             1 RES     \\n       2 C            7.8039   226.8327   207.6166 C             1 RES     \\n       3 C            7.8212   226.9021   211.5016 C             1 RES     \\n       4 C            7.3072   223.6098   213.5093 C             1 RES     \\n       5 S            7.3291   223.6953   218.4803 S             1 RES     \\n       6 C            6.7781   220.2501   211.6207 C             1 RES     \\n       7 C            6.7616   220.1857   207.7356 C             1 RES     \\n       8 H            8.2006   229.3781   206.0665 H             1 RES     \\n       9 H            8.2318   229.5091   212.9435 H             1 RES     \\n      10 H            6.3792   217.6946   213.1550 H             1 RES     \\n      11 H            6.3519   217.5885   206.2776 H             1 RES     \\n      12 C            7.1628   223.8089   223.3651 C             1 RES     \\n      13 C            7.6924   227.1658   225.2477 C             1 RES     \\n      14 C            7.7097   227.2352   229.1327 C             1 RES     \\n      15 C            7.1957   223.9429   231.1404 C             1 RES     \\n      16 S            7.2176   224.0284   236.1114 S             1 RES     \\n      17 C            6.6666   220.5832   229.2518 C             1 RES     \\n      18 C            6.6501   220.5188   225.3666 C             1 RES     \\n      19 H            8.0890   229.7112   223.6976 H             1 RES     \\n      20 H            8.1203   229.8422   230.5745 H             1 RES     \\n      21 H            6.2677   218.0277   230.7860 H             1 RES     \\n      22 H            6.2404   217.9216   223.9086 H             1 RES     \\n      23 C            7.0513   224.1420   240.9961 C             1 RES     \\n      24 C            7.5809   227.4989   242.8787 C             1 RES     \\n      25 C            7.5982   227.5683   246.7638 C             1 RES     \\n      26 C            7.0842   224.2760   248.7715 C             1 RES     \\n      27 S            7.1062   224.3615   253.7425 S             1 RES     \\n      28 C            6.5551   220.9163   246.8828 C             1 RES     \\n      29 C            6.5386   220.8519   242.9977 C             1 RES     \\n      30 H            7.9776   230.0443   241.3287 H             1 RES     \\n      31 H            8.0088   230.1753   248.2056 H             1 RES     \\n      32 H            6.1562   218.3608   248.4171 H             1 RES     \\n      33 H            6.1289   218.2547   241.5397 H             1 RES     \\n      34 C            6.9398   224.4751   258.6272 C             1 RES     \\n      35 C            7.4694   227.8320   260.5098 C             1 RES     \\n      36 C            7.4867   227.9014   264.3948 C             1 RES     \\n      37 C            6.9727   224.6091   266.4025 C             1 RES     \\n      38 S            6.9946   224.6946   271.3735 S             1 RES     \\n      39 C            6.4436   221.2494   264.5139 C             1 RES     \\n      40 C            6.4271   221.1850   260.6288 C             1 RES     \\n      41 H            7.8661   230.3774   258.9597 H             1 RES     \\n      42 H            7.8973   230.5084   265.8367 H             1 RES     \\n      43 H            6.0447   218.6939   266.0482 H             1 RES     \\n      44 H            6.0174   218.5878   259.1708 H             1 RES     \\n      45 C            6.8283   224.8082   276.2583 C             1 RES     \\n      46 C            7.3579   228.1651   278.1409 C             1 RES     \\n      47 C            7.3752   228.2345   282.0259 C             1 RES     \\n      48 C            6.8612   224.9422   284.0336 C             1 RES     \\n      49 S            6.8832   225.0277   289.0046 S             1 RES     \\n      50 C            6.3321   221.5825   282.1450 C             1 RES     \\n      51 C            6.3156   221.5181   278.2598 C             1 RES     \\n      52 H            7.7546   230.7105   276.5908 H             1 RES     \\n      53 H            7.7858   230.8415   283.4677 H             1 RES     \\n      54 H            5.9332   219.0270   283.6792 H             1 RES     \\n      55 H            5.9059   218.9209   276.8018 H             1 RES     \\n      56 C            6.7168   225.1413   293.8893 C             1 RES     \\n      57 C            7.2464   228.4982   295.7719 C             1 RES     \\n      58 C            7.2637   228.5676   299.6570 C             1 RES     \\n      59 C            6.7497   225.2753   301.6647 C             1 RES     \\n      60 S            6.7717   225.3608   306.6357 S             1 RES     \\n      61 C            6.2206   221.9156   299.7761 C             1 RES     \\n      62 C            6.2041   221.8512   295.8909 C             1 RES     \\n      63 H            7.6431   231.0436   294.2219 H             1 RES     \\n      64 H            7.6743   231.1746   301.0988 H             1 RES     \\n      65 H            5.8217   219.3601   301.3103 H             1 RES     \\n      66 H            5.7944   219.2540   294.4329 H             1 RES     \\n      67 C            6.6053   225.4744   311.5204 C             1 RES     \\n      68 C            7.1349   228.8313   313.4030 C             1 RES     \\n      69 C            7.1522   228.9007   317.2880 C             1 RES     \\n      70 C            6.6382   225.6084   319.2957 C             1 RES     \\n      71 S            6.6602   225.6939   324.2667 S             1 RES     \\n      72 C            6.1091   222.2487   317.4071 C             1 RES     \\n      73 C            6.0926   222.1843   313.5220 C             1 RES     \\n      74 H            7.5316   231.3767   311.8529 H             1 RES     \\n      75 H            7.5628   231.5077   318.7299 H             1 RES     \\n      76 H            5.7102   219.6932   318.9414 H             1 RES     \\n      77 H            5.6829   219.5871   312.0640 H             1 RES     \\n      78 C            6.4938   225.8075   329.1515 C             1 RES     \\n      79 C            7.0235   229.1644   331.0341 C             1 RES     \\n      80 C            7.0407   229.2338   334.9191 C             1 RES     \\n      81 C            6.5267   225.9415   336.9268 C             1 RES     \\n      82 S            6.5487   226.0270   341.8978 S             1 RES     \\n      83 C            5.9976   222.5818   335.0382 C             1 RES     \\n      84 C            5.9811   222.5174   331.1530 C             1 RES     \\n      85 H            7.4201   231.7098   329.4840 H             1 RES     \\n      86 H            7.4513   231.8408   336.3609 H             1 RES     \\n      87 H            5.5987   220.0263   336.5724 H             1 RES     \\n      88 H            5.5714   219.9202   329.6950 H             1 RES     \\n      89 C            6.3823   226.1406   346.7825 C             1 RES     \\n      90 C            6.9119   229.4975   348.6651 C             1 RES     \\n      91 C            6.9292   229.5669   352.5502 C             1 RES     \\n      92 C            6.4152   226.2746   354.5579 C             1 RES     \\n      93 S            6.4372   226.3601   359.5289 S             1 RES     \\n      94 C            5.8861   222.9149   352.6693 C             1 RES     \\n      95 C            5.8696   222.8505   348.7841 C             1 RES     \\n      96 H            7.3086   232.0429   347.1151 H             1 RES     \\n      97 H            7.3398   232.1739   353.9920 H             1 RES     \\n      98 H            5.4873   220.3594   354.2035 H             1 RES     \\n      99 H            5.4599   220.2533   347.3261 H             1 RES     \\n     100 C            6.2708   226.4737   364.4136 C             1 RES     \\n     101 C            6.8004   229.8306   366.2962 C             1 RES     \\n     102 C            6.8177   229.9000   370.1812 C             1 RES     \\n     103 C            6.3037   226.6077   372.1889 C             1 RES     \\n     104 S            6.3257   226.6932   377.1599 S             1 RES     \\n     105 C            5.7747   223.2480   370.3003 C             1 RES     \\n     106 C            5.7582   223.1836   366.4152 C             1 RES     \\n     107 H            7.1971   232.3760   364.7461 H             1 RES     \\n     108 H            7.2284   232.5070   371.6231 H             1 RES     \\n     109 H            5.3757   220.6925   371.8346 H             1 RES     \\n     110 H            5.3484   220.5864   364.9572 H             1 RES     \\n     111 H            7.3777   223.4052   202.6977 H             1 RES     \\n     112 H            6.2223   226.7638   380.1962 H             1 RES     \\n@<TRIPOS>BOND\\n       1        1        2 1\\n       2        1        7 1\\n       3        1      111 1\\n       4        2        3 1\\n       5        2        8 1\\n       6        3        4 1\\n       7        3        9 1\\n       8        4        5 1\\n       9        4        6 1\\n      10        5       12 1\\n      11        6        7 1\\n      12        6       10 1\\n      13        7       11 1\\n      14       12       13 1\\n      15       12       18 1\\n      16       13       14 1\\n      17       13       19 1\\n      18       14       15 1\\n      19       14       20 1\\n      20       15       16 1\\n      21       15       17 1\\n      22       16       23 1\\n      23       17       18 1\\n      24       17       21 1\\n      25       18       22 1\\n      26       23       24 1\\n      27       23       29 1\\n      28       24       25 1\\n      29       24       30 1\\n      30       25       26 1\\n      31       25       31 1\\n      32       26       27 1\\n      33       26       28 1\\n      34       27       34 1\\n      35       28       29 1\\n      36       28       32 1\\n      37       29       33 1\\n      38       34       35 1\\n      39       34       40 1\\n      40       35       36 1\\n      41       35       41 1\\n      42       36       37 1\\n      43       36       42 1\\n      44       37       38 1\\n      45       37       39 1\\n      46       38       45 1\\n      47       39       40 1\\n      48       39       43 1\\n      49       40       44 1\\n      50       45       46 1\\n      51       45       51 1\\n      52       46       47 1\\n      53       46       52 1\\n      54       47       48 1\\n      55       47       53 1\\n      56       48       49 1\\n      57       48       50 1\\n      58       49       56 1\\n      59       50       51 1\\n      60       50       54 1\\n      61       51       55 1\\n      62       56       57 1\\n      63       56       62 1\\n      64       57       58 1\\n      65       57       63 1\\n      66       58       59 1\\n      67       58       64 1\\n      68       59       60 1\\n      69       59       61 1\\n      70       60       67 1\\n      71       61       62 1\\n      72       61       65 1\\n      73       62       66 1\\n      74       67       68 1\\n      75       67       73 1\\n      76       68       69 1\\n      77       68       74 1\\n      78       69       70 1\\n      79       69       75 1\\n      80       70       71 1\\n      81       70       72 1\\n      82       71       78 1\\n      83       72       73 1\\n      84       72       76 1\\n      85       73       77 1\\n      86       78       79 1\\n      87       78       84 1\\n      88       79       80 1\\n      89       79       85 1\\n      90       80       81 1\\n      91       80       86 1\\n      92       81       82 1\\n      93       81       83 1\\n      94       82       89 1\\n      95       83       84 1\\n      96       83       87 1\\n      97       84       88 1\\n      98       89       90 1\\n      99       89       95 1\\n     100       90       91 1\\n     101       90       96 1\\n     102       91       92 1\\n     103       91       97 1\\n     104       92       93 1\\n     105       92       94 1\\n     106       93      100 1\\n     107       94       95 1\\n     108       94       98 1\\n     109       95       99 1\\n     110      100      101 1\\n     111      100      106 1\\n     112      101      102 1\\n     113      101      107 1\\n     114      102      103 1\\n     115      102      108 1\\n     116      103      104 1\\n     117      103      105 1\\n     118      104      112 1\\n     119      105      106 1\\n     120      105      109 1\\n     121      106      110 1\\n@<TRIPOS>SUBSTRUCTURE\\n       1 RES             1 RESIDUE    0 **** ROOT      0\\n\",\"mol2\");\n",
       "\tviewer_16983497112505617.setStyle({\"stick\": {\"radius\": 0.2, \"opacity\": 0.6, \"color\": \"grey\"}, \"sphere\": {\"scale\": 0.3, \"opacity\": 0.6, \"colorscheme\": {}}});\n",
       "\tviewer_16983497112505617.addModel(\"@<TRIPOS>MOLECULE\\nRES\\n10 9 1 0 1\\nSMALL\\nNO_CHARGES\\n@<TRIPOS>CRYSIN\\n    6.0161     8.0280   165.2479    90.0000    90.0000    90.0000 1 1\\n@<TRIPOS>ATOM\\n       1 _A           7.3014   223.5439   209.7782 _A            1 RES     \\n       2 _A           7.1829   223.8896   228.0529 _A            1 RES     \\n       3 _A           7.0714   224.2227   245.6840 _A            1 RES     \\n       4 _A           6.9599   224.5558   263.3151 _A            1 RES     \\n       5 _A           6.8485   224.8889   280.9462 _A            1 RES     \\n       6 _A           6.7370   225.2220   298.5772 _A            1 RES     \\n       7 _A           6.6255   225.5551   316.2083 _A            1 RES     \\n       8 _A           6.5140   225.8882   333.8394 _A            1 RES     \\n       9 _A           6.4025   226.2213   351.4704 _A            1 RES     \\n      10 _A           6.2853   226.5719   370.0260 _A            1 RES     \\n@<TRIPOS>BOND\\n       1        1        2 1\\n       2        2        3 1\\n       3        3        4 1\\n       4        4        5 1\\n       5        5        6 1\\n       6        6        7 1\\n       7        7        8 1\\n       8        8        9 1\\n       9        9       10 1\\n@<TRIPOS>SUBSTRUCTURE\\n       1 RES             1 RESIDUE    0 **** ROOT      0\\n\",\"mol2\");\n",
       "\tviewer_16983497112505617.setStyle({\"atom\": [\"_A\", \"_A\", \"_A\", \"_A\", \"_A\", \"_A\", \"_A\", \"_A\", \"_A\", \"_A\"]},{\"stick\": {\"radius\": 0.13999999999999999, \"opacity\": 1, \"color\": \"grey\"}, \"sphere\": {\"scale\": 0.7, \"opacity\": 1, \"colorscheme\": {}}});\n",
       "\tviewer_16983497112505617.zoomTo();\n",
       "viewer_16983497112505617.render();\n",
       "});\n",
       "</script>"
      ]
     },
     "metadata": {},
     "output_type": "display_data"
    },
    {
     "data": {
      "text/plain": [
       "<py3Dmol.view at 0x7f137430fc40>"
      ]
     },
     "execution_count": 11,
     "metadata": {},
     "output_type": "execute_result"
    }
   ],
   "source": [
    "system._compounds[0].visualize(show_atomistic = True)"
   ]
  },
  {
   "cell_type": "code",
   "execution_count": 13,
   "id": "e68f7c28-2c1c-415a-8270-9c017785fbb6",
   "metadata": {},
   "outputs": [
    {
     "name": "stderr",
     "output_type": "stream",
     "text": [
      "/home/danirojas/miniconda3/envs/flowermd/lib/python3.9/site-packages/gsd/hoomd.py:827: DeprecationWarning: The truth value of an empty array is ambiguous. Returning False, but in future this will result in an error. Use `array.size > 0` to check that an array is not empty.\n",
      "  if matches_default_value \\\n"
     ]
    }
   ],
   "source": [
    "system.save('CGtrajectory.gsd.')"
   ]
  },
  {
   "cell_type": "code",
   "execution_count": 20,
   "id": "dad57c33-09b7-409a-9c2d-2e9a2a3272f3",
   "metadata": {},
   "outputs": [
    {
     "name": "stdout",
     "output_type": "stream",
     "text": [
      "Help on method save in module grits.coarsegrain:\n",
      "\n",
      "save(cg_gsdfile, start=0, stop=None) method of grits.coarsegrain.CG_System instance\n",
      "    Save the coarse-grain system to a gsd file.\n",
      "    \n",
      "    Does not calculate the image of the coarse-grain bead.\n",
      "    \n",
      "    Retains:\n",
      "        - configuration: box, step\n",
      "        - particles: N, position, typeid, types\n",
      "        - bonds: N, group, typeid, types\n",
      "    \n",
      "    Parameters\n",
      "    ----------\n",
      "    cg_gsdfile : str\n",
      "        Filename for new gsd file. If file already exists, it will be\n",
      "        overwritten.\n",
      "    start : int, default 0\n",
      "        Where to start reading the gsd trajectory the system was created\n",
      "        with.\n",
      "    stop : int, default None\n",
      "        Where to stop reading the gsd trajectory the system was created\n",
      "        with. If None, will stop at the last frame.\n",
      "\n"
     ]
    }
   ],
   "source": [
    "help(system.save)"
   ]
  },
  {
   "cell_type": "code",
   "execution_count": null,
   "id": "e4ad8e7e-5da7-4396-94e7-e21307b60f7b",
   "metadata": {},
   "outputs": [],
   "source": []
  }
 ],
 "metadata": {
  "kernelspec": {
   "display_name": "Python 3 (ipykernel)",
   "language": "python",
   "name": "python3"
  },
  "language_info": {
   "codemirror_mode": {
    "name": "ipython",
    "version": 3
   },
   "file_extension": ".py",
   "mimetype": "text/x-python",
   "name": "python",
   "nbconvert_exporter": "python",
   "pygments_lexer": "ipython3",
   "version": "3.9.18"
  }
 },
 "nbformat": 4,
 "nbformat_minor": 5
}
